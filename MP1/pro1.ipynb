{
  "nbformat": 4,
  "nbformat_minor": 0,
  "metadata": {
    "colab": {
      "provenance": [],
      "authorship_tag": "ABX9TyO7utFoKBfb0XncVn2ZSqae",
      "include_colab_link": true
    },
    "kernelspec": {
      "name": "python3",
      "display_name": "Python 3"
    },
    "language_info": {
      "name": "python"
    }
  },
  "cells": [
    {
      "cell_type": "markdown",
      "metadata": {
        "id": "view-in-github",
        "colab_type": "text"
      },
      "source": [
        "<a href=\"https://colab.research.google.com/github/wrozal/MIW-pjatk/blob/main/MP1/pro1.ipynb\" target=\"_parent\"><img src=\"https://colab.research.google.com/assets/colab-badge.svg\" alt=\"Open In Colab\"/></a>"
      ]
    },
    {
      "cell_type": "markdown",
      "source": [
        "#**MP1: ROCK PAPER SCISSORS**"
      ],
      "metadata": {
        "id": "BwrK0UBB_9JM"
      }
    },
    {
      "cell_type": "markdown",
      "source": [
        "## Imports"
      ],
      "metadata": {
        "id": "xXsUYFDEM0MW"
      }
    },
    {
      "cell_type": "code",
      "source": [
        "import numpy as np\n",
        "import matplotlib.pyplot as plt"
      ],
      "metadata": {
        "id": "YMoZdDd9M_-R"
      },
      "execution_count": null,
      "outputs": []
    },
    {
      "cell_type": "markdown",
      "source": [
        "## Game result checking method\n",
        "\n"
      ],
      "metadata": {
        "id": "FghH-byANZcL"
      }
    },
    {
      "cell_type": "code",
      "source": [
        "def check_result(user_pick, ai_pick):\n",
        "    \"\"\"Check the result of the game\"\"\"\n",
        "    # draw\n",
        "    if user_pick == ai_pick:\n",
        "        print('Draw. \\n')\n",
        "        return 0\n",
        "    # win\n",
        "    elif (user_pick == 'Rock' and ai_pick == 'Scissors') or \\\n",
        "            (user_pick == 'Paper' and ai_pick == 'Rock') or \\\n",
        "            (user_pick == 'Scissors' and ai_pick == 'Paper'):\n",
        "        print('You won: +1 point. \\n')\n",
        "        return 1\n",
        "    # loss\n",
        "    elif (user_pick == 'Rock' and ai_pick == 'Paper') or \\\n",
        "            (user_pick == 'Paper' and ai_pick == 'Scissors') or \\\n",
        "            (user_pick == 'Scissors' and ai_pick == 'Rock'):\n",
        "        print('You lost: -1 point. \\n')\n",
        "        return -1"
      ],
      "metadata": {
        "id": "7uc1gYPDNf6I"
      },
      "execution_count": null,
      "outputs": []
    },
    {
      "cell_type": "markdown",
      "source": [
        "## Transition matrix learning method"
      ],
      "metadata": {
        "id": "85DCZQWeNky1"
      }
    },
    {
      "cell_type": "code",
      "source": [
        "def learn(last_index, index):\n",
        "    if index == 0 and (transition_matrix[last_index][0] - learning_rate / 2 >= 0 and\n",
        "                       transition_matrix[last_index][2] - learning_rate / 2 >= 0 and\n",
        "                       transition_matrix[last_index][1] + learning_rate <= 100):\n",
        "        transition_matrix[last_index][0] -= learning_rate / 2\n",
        "        transition_matrix[last_index][1] += learning_rate\n",
        "        transition_matrix[last_index][2] -= learning_rate / 2\n",
        "    elif index == 1 and (transition_matrix[last_index][0] - learning_rate / 2 >= 0 and\n",
        "                         transition_matrix[last_index][1] - learning_rate / 2 >= 0 and\n",
        "                         transition_matrix[last_index][2] + learning_rate <= 100):\n",
        "        transition_matrix[last_index][0] -= learning_rate / 2\n",
        "        transition_matrix[last_index][1] -= learning_rate / 2\n",
        "        transition_matrix[last_index][2] += learning_rate\n",
        "    elif index == 2 and (transition_matrix[last_index][1] - learning_rate / 2 >= 0 and\n",
        "                         transition_matrix[last_index][2] - learning_rate / 2 >= 0 and\n",
        "                         transition_matrix[last_index][0] + learning_rate <= 100):\n",
        "        transition_matrix[last_index][0] += learning_rate\n",
        "        transition_matrix[last_index][1] -= learning_rate / 2\n",
        "        transition_matrix[last_index][2] -= learning_rate / 2"
      ],
      "metadata": {
        "id": "SUMPr1P4Npvk"
      },
      "execution_count": null,
      "outputs": []
    },
    {
      "cell_type": "markdown",
      "source": [
        "## Index retrieval method"
      ],
      "metadata": {
        "id": "rOudjHH-Nsx-"
      }
    },
    {
      "cell_type": "code",
      "source": [
        "def get_index(index):\n",
        "    if index == 'Rock': return 0\n",
        "    elif index == 'Paper': return 1\n",
        "    elif index == \"Scissors\": return 2"
      ],
      "metadata": {
        "id": "_WlJjC0kNw4Q"
      },
      "execution_count": null,
      "outputs": []
    },
    {
      "cell_type": "markdown",
      "source": [
        "## Graph printing method"
      ],
      "metadata": {
        "id": "g2wuXwHxOFQv"
      }
    },
    {
      "cell_type": "code",
      "source": [
        "def print_graph():\n",
        "    plt.plot(all_points, color='green', linestyle='dashed', linewidth=3,\n",
        "             marker='o', markerfacecolor='red', markersize=12)\n",
        "    plt.title('Graph showing points from each round')\n",
        "    plt.xlabel('Game')\n",
        "    plt.ylabel('Points')\n",
        "    plt.xlim(0, len(all_points) - 1)\n",
        "    plt.show()"
      ],
      "metadata": {
        "id": "JLmCd3kWOG4X"
      },
      "execution_count": null,
      "outputs": []
    },
    {
      "cell_type": "markdown",
      "source": [
        "## Rock, Paper, Scissors game simulation"
      ],
      "metadata": {
        "id": "GdPNM9KVOKsc"
      }
    },
    {
      "cell_type": "code",
      "execution_count": null,
      "metadata": {
        "id": "K3AJ-BpH_4cJ",
        "colab": {
          "base_uri": "https://localhost:8080/",
          "height": 1000
        },
        "outputId": "11f0b7b9-9921-4e4e-9eda-7b80f6a91ad2"
      },
      "outputs": [
        {
          "output_type": "stream",
          "name": "stdout",
          "text": [
            "Game: Rock, Paper and Scissors!\n",
            "How many games would you like to play? \n",
            "10\n",
            "You will play 10 games. \n",
            "\n",
            "Game number: 1\n",
            "Your pick: Rock\n",
            "AI pick: Rock\n",
            "Draw. \n",
            "\n",
            "Game number: 2\n",
            "Your pick: Rock\n",
            "AI pick: Rock\n",
            "Draw. \n",
            "\n",
            "Game number: 3\n",
            "Your pick: Rock\n",
            "AI pick: Scissors\n",
            "You won: +1 point. \n",
            "\n",
            "Game number: 4\n",
            "Your pick: Rock\n",
            "AI pick: Rock\n",
            "Draw. \n",
            "\n",
            "Game number: 5\n",
            "Your pick: Rock\n",
            "AI pick: Rock\n",
            "Draw. \n",
            "\n",
            "Game number: 6\n",
            "Your pick: Rock\n",
            "AI pick: Paper\n",
            "You lost: -1 point. \n",
            "\n",
            "Game number: 7\n",
            "Your pick: Rock\n",
            "AI pick: Paper\n",
            "You lost: -1 point. \n",
            "\n",
            "Game number: 8\n",
            "Your pick: Rock\n",
            "AI pick: Paper\n",
            "You lost: -1 point. \n",
            "\n",
            "Game number: 9\n",
            "Your pick: Rock\n",
            "AI pick: Scissors\n",
            "You won: +1 point. \n",
            "\n",
            "Game number: 10\n",
            "Your pick: Rock\n",
            "AI pick: Paper\n",
            "You lost: -1 point. \n",
            "\n"
          ]
        },
        {
          "output_type": "display_data",
          "data": {
            "text/plain": [
              "<Figure size 640x480 with 1 Axes>"
            ],
            "image/png": "[encoded data removed]"
          },
          "metadata": {}
        }
      ],
      "source": [
        "states = ['Rock', 'Paper', 'Scissors']\n",
        "transition_matrix = [[1/3, 1/3, 1/3], [1/3, 1/3, 1/3], [1/3, 1/3, 1/3]]\n",
        "\n",
        "print('Game: Rock, Paper and Scissors!')\n",
        "number_of_games = int(input('How many games would you like to play? \\n'))\n",
        "print(f'You will play {number_of_games} games. \\n')\n",
        "\n",
        "all_points = [0] * number_of_games\n",
        "learning_rate = 0.05\n",
        "last_user_pick = ''\n",
        "\n",
        "\n",
        "for i in range(number_of_games):\n",
        "    print(f'Game number: {i + 1}')\n",
        "    if i == 0:\n",
        "        last_user_pick = input('Your pick: ')\n",
        "        ai_pick = np.random.choice(states, p=transition_matrix[0])\n",
        "        print(f'AI pick: {ai_pick}')\n",
        "        all_points[i] = check_result(last_user_pick, ai_pick)\n",
        "    else:\n",
        "        user_pick = input('Your pick: ')\n",
        "        index_of_last_user_pick = get_index(last_user_pick)\n",
        "        index_of_user_pick = get_index(user_pick)\n",
        "        ai_pick = np.random.choice(states, p=transition_matrix[index_of_last_user_pick])\n",
        "        learn(index_of_last_user_pick, index_of_user_pick)\n",
        "        # print('Rock prob: ', probabilities[0])\n",
        "        # print('Paper prob: ', probabilities[1])\n",
        "        # print('Scissors prob: ', probabilities[2])\n",
        "        print(f'AI pick: {ai_pick}')\n",
        "        all_points[i] = all_points[i - 1] + check_result(user_pick, ai_pick)\n",
        "        last_user_pick = user_pick\n",
        "\n",
        "print_graph()"
      ]
    }
  ]
}